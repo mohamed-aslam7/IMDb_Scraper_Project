{
 "cells": [
  {
   "cell_type": "code",
   "execution_count": 19,
   "metadata": {},
   "outputs": [
    {
     "name": "stdout",
     "output_type": "stream",
     "text": [
      "Merging complete! Total movies: 27144\n",
      "                                               Title   Genre  Rating    Votes  \\\n",
      "0                                  1. Dune: Part Two  Action     8.5   (609K)   \n",
      "1                           2. Venom: The Last Dance  Action     6.0   (104K)   \n",
      "2                                    3. Gladiator II  Action     6.6   (213K)   \n",
      "3                            4. Sonic the Hedgehog 3  Action     6.9    (51K)   \n",
      "4  5. The Lord of the Rings: The War of the Rohirrim  Action     6.3    (27K)   \n",
      "\n",
      "  Duration Genre_Source  \n",
      "0   2h 46m       Action  \n",
      "1   1h 50m       Action  \n",
      "2   2h 28m       Action  \n",
      "3   1h 50m       Action  \n",
      "4   2h 14m       Action  \n"
     ]
    }
   ],
   "source": [
    "import os\n",
    "import pandas as pd\n",
    "\n",
    "folder = r\"C:\\Users\\User\\Desktop\\IMDb_Scraper_Project\"\n",
    "files = [f for f in os.listdir(folder) if f.endswith(\".csv\")]\n",
    "\n",
    "dataframes = []\n",
    "for file in files:\n",
    "    df = pd.read_csv(os.path.join(folder, file))\n",
    "    df[\"Genre_Source\"] = file.replace(\".csv\", \"\")\n",
    "    dataframes.append(df)\n",
    "\n",
    "merged_df = pd.concat(dataframes, ignore_index=True)\n",
    "merged_df.to_csv(\"merged_imdb_data.csv\", index=False, encoding=\"utf-8\")\n",
    "\n",
    "print(\"Merging complete! Total movies:\", len(merged_df))\n",
    "print(merged_df.head())\n"
   ]
  },
  {
   "cell_type": "code",
   "execution_count": null,
   "metadata": {},
   "outputs": [
    {
     "name": "stdout",
     "output_type": "stream",
     "text": [
      "✅ 'Genre_Source' column removed successfully!\n"
     ]
    }
   ],
   "source": [
    "import pandas as pd\n",
    "\n",
    "df = pd.read_csv(\"merged_imdb_data.csv\")\n",
    "\n",
    "df.drop(columns=[\"Genre_Source\"], inplace=True)\n",
    "\n",
    "df.to_csv(\"merged_movies_cleaned.csv\", index=False)\n",
    "\n",
    "print(\"'Genre_Source' column removed successfully!\")\n"
   ]
  },
  {
   "cell_type": "code",
   "execution_count": null,
   "metadata": {},
   "outputs": [
    {
     "name": "stdout",
     "output_type": "stream",
     "text": [
      "✅ Column names updated successfully!\n"
     ]
    }
   ],
   "source": [
    "import pandas as pd\n",
    "\n",
    "df = pd.read_csv(\"merged_movies_cleaned.csv\")\n",
    "\n",
    "df.rename(columns={\n",
    "    \"Title\": \"Movie Name\",\n",
    "    \"Genre\": \"Genre\",\n",
    "    \"Rating\": \"Ratings\",\n",
    "    \"Votes\": \"Voting Counts\",\n",
    "    \"Duration\": \"Duration\"\n",
    "}, inplace=True)\n",
    "\n",
    "df.to_csv(\"merged_movies_cleaned.csv\", index=False)\n",
    "\n",
    "print(\" Column names updated successfully!\")\n"
   ]
  },
  {
   "cell_type": "code",
   "execution_count": null,
   "metadata": {},
   "outputs": [
    {
     "name": "stdout",
     "output_type": "stream",
     "text": [
      "✅ Duration converted successfully!\n"
     ]
    }
   ],
   "source": [
    "import pandas as pd\n",
    "import re\n",
    "\n",
    "# Function to convert duration format\n",
    "def convert_duration(duration):\n",
    "    match = re.match(r'(?:(\\d+)h)?\\s*(?:(\\d+)m)?', duration)\n",
    "    if match:\n",
    "        hours = int(match.group(1)) if match.group(1) else 0\n",
    "        minutes = int(match.group(2)) if match.group(2) else 0\n",
    "        return hours * 60 + minutes\n",
    "    return \"N/A\"\n",
    "\n",
    "# Load your CSV file\n",
    "df = pd.read_csv(\"merged_movies_cleaned.csv\")\n",
    "\n",
    "# Apply duration conversion\n",
    "df[\"Duration\"] = df[\"Duration\"].astype(str).apply(convert_duration)\n",
    "\n",
    "# Rename the column\n",
    "df.rename(columns={\"Duration\": \"Duration (min)\"}, inplace=True)\n",
    "\n",
    "# Save the cleaned file\n",
    "df.to_csv(\"merged_movies_cleaned.csv\", index=False)\n",
    "\n",
    "print(\" Duration converted successfully!\")\n"
   ]
  },
  {
   "cell_type": "code",
   "execution_count": null,
   "metadata": {},
   "outputs": [
    {
     "name": "stdout",
     "output_type": "stream",
     "text": [
      "✅ Replaced 0 with N/A in Duration (min) column!\n"
     ]
    }
   ],
   "source": [
    "import pandas as pd\n",
    "\n",
    "# Load your CSV file\n",
    "df = pd.read_csv(\"merged_movies_cleaned.csv\")\n",
    "\n",
    "# Replace 0 with \"N/A\" in the \"Duration (min)\" column\n",
    "df[\"Duration (min)\"] = df[\"Duration (min)\"].replace(0, \"N/A\")\n",
    "\n",
    "# Save the cleaned file\n",
    "df.to_csv(\"merged_movies_cleaned.csv\", index=False)\n",
    "\n",
    "print(\" Replaced 0 with N/A in Duration (min) column!\")\n"
   ]
  },
  {
   "cell_type": "code",
   "execution_count": 8,
   "metadata": {},
   "outputs": [
    {
     "name": "stdout",
     "output_type": "stream",
     "text": [
      "✅ Voting Counts cleaned successfully!\n"
     ]
    }
   ],
   "source": [
    "import pandas as pd\n",
    "import re\n",
    "\n",
    "df = pd.read_csv(\"merged_movies_cleaned.csv\")\n",
    "\n",
    "def convert_votes(vote):\n",
    "    if pd.isna(vote) or vote == \"\" or vote.strip() == \"N/A\":  \n",
    "        return \"N/A\"\n",
    "    \n",
    "    if isinstance(vote, str):\n",
    "        vote = vote.lower().replace(\",\", \"\").strip()\n",
    "        vote = re.sub(r\"[()]\", \"\", vote)  # Remove parentheses if present\n",
    "        \n",
    "        if \"k\" in vote:\n",
    "            return int(float(vote.replace(\"k\", \"\")) * 1_000)\n",
    "        elif \"m\" in vote:\n",
    "            return int(float(vote.replace(\"m\", \"\")) * 1_000_000)\n",
    "        elif vote.isdigit():  # If it's a pure number, convert it directly\n",
    "            return int(vote)\n",
    "    \n",
    "    return \"N/A\"  # If it doesn't match any condition, mark it as N/A\n",
    "\n",
    "df[\"Voting Counts\"] = df[\"Voting Counts\"].apply(convert_votes)\n",
    "\n",
    "df.to_csv(\"merged_movies_cleaned.csv\", index=False)\n",
    "\n",
    "print(\"✅ Voting Counts cleaned successfully!\")\n",
    "\n"
   ]
  },
  {
   "cell_type": "code",
   "execution_count": null,
   "metadata": {},
   "outputs": [
    {
     "name": "stdout",
     "output_type": "stream",
     "text": [
      "✅ Duration (min) column cleaned successfully!\n"
     ]
    }
   ],
   "source": [
    "import pandas as pd  \n",
    " \n",
    "df = pd.read_csv(\"merged_movies_cleaned.csv\")  \n",
    " \n",
    "if \"Duration (min)\" in df.columns:\n",
    "    df[\"Duration (min)\"] = df[\"Duration (min)\"].apply(lambda x: x if x == \"N/A\" else int(float(x)) if pd.notna(x) else \"N/A\")\n",
    "  \n",
    "df.to_csv(\"merged_movies_cleaned.csv\", index=False)  \n",
    "\n",
    "print(\"✅ Duration (min) column cleaned successfully!\")\n",
    "\n"
   ]
  },
  {
   "cell_type": "code",
   "execution_count": null,
   "metadata": {},
   "outputs": [
    {
     "name": "stdout",
     "output_type": "stream",
     "text": [
      "✅ Replaced empty values in Voting Counts with N/A successfully!\n"
     ]
    }
   ],
   "source": [
    "import pandas as pd  \n",
    "\n",
    "df = pd.read_csv(\"merged_movies_cleaned.csv\")  \n",
    "  \n",
    "if \"Voting Counts\" in df.columns:\n",
    "    df[\"Voting Counts\"] = df[\"Voting Counts\"].replace([\"\", \" \"], \"N/A\").fillna(\"N/A\")\n",
    "  \n",
    "df.to_csv(\"merged_movies_cleaned.csv\", index=False)  \n",
    "\n",
    "print(\"Replaced empty values in Voting Counts with N/A successfully!\")\n"
   ]
  },
  {
   "cell_type": "code",
   "execution_count": null,
   "metadata": {},
   "outputs": [
    {
     "name": "stdout",
     "output_type": "stream",
     "text": [
      "✅ Replaced all empty values with N/A successfully!\n"
     ]
    }
   ],
   "source": [
    "import pandas as pd  \n",
    " \n",
    "df = pd.read_csv(\"merged_movies_cleaned.csv\", dtype=str)   \n",
    "  \n",
    "df.fillna(\"N/A\", inplace=True)  \n",
    "df.replace(\"\", \"N/A\", inplace=True)  \n",
    "  \n",
    "df.to_csv(\"merged_movies_cleaned.csv\", index=False)  \n",
    "\n",
    "print(\" Replaced all empty values with N/A successfully!\")\n"
   ]
  },
  {
   "cell_type": "code",
   "execution_count": null,
   "metadata": {},
   "outputs": [
    {
     "name": "stdout",
     "output_type": "stream",
     "text": [
      "✅ Converted 'Duration (min)' and 'Voting Counts' to integers (except N/A) successfully!\n"
     ]
    }
   ],
   "source": [
    "import pandas as pd  \n",
    "  \n",
    "df = pd.read_csv(\"merged_movies_cleaned.csv\", dtype=str)  \n",
    " \n",
    "def convert_to_int(value):\n",
    "    if value == \"N/A\":\n",
    "        return value  \n",
    "    try:\n",
    "        return int(float(value))  \n",
    "    except ValueError:\n",
    "        return \"N/A\"  \n",
    " \n",
    "if \"Duration (min)\" in df.columns:\n",
    "    df[\"Duration (min)\"] = df[\"Duration (min)\"].apply(convert_to_int)  \n",
    "\n",
    "if \"Voting Counts\" in df.columns:\n",
    "    df[\"Voting Counts\"] = df[\"Voting Counts\"].apply(convert_to_int)  \n",
    " \n",
    "df.to_csv(\"merged_movies_cleaned.csv\", index=False)  \n",
    "\n",
    "print(\"✅ Converted 'Duration (min)' and 'Voting Counts' to integers (except N/A) successfully!\")\n"
   ]
  },
  {
   "cell_type": "code",
   "execution_count": null,
   "metadata": {},
   "outputs": [
    {
     "name": "stdout",
     "output_type": "stream",
     "text": [
      "✅ Replaced empty values in 'Ratings' with 'N/A' successfully!\n"
     ]
    }
   ],
   "source": [
    "import pandas as pd  \n",
    "\n",
    "df = pd.read_csv(\"merged_movies_cleaned.csv\", dtype=str)  \n",
    "\n",
    "if \"Ratings\" in df.columns:\n",
    "    df[\"Ratings\"] = df[\"Ratings\"].replace(\"\", \"N/A\")  \n",
    "  \n",
    "df.to_csv(\"merged_movies_cleaned.csv\", index=False)  \n",
    "\n",
    "print(\" Replaced empty values in 'Ratings' with 'N/A' successfully!\")\n"
   ]
  },
  {
   "cell_type": "code",
   "execution_count": null,
   "metadata": {},
   "outputs": [
    {
     "name": "stdout",
     "output_type": "stream",
     "text": [
      "✅ Removed leading numbers and dots from 'Movie Name' successfully!\n"
     ]
    }
   ],
   "source": [
    "import pandas as pd  \n",
    "import re  \n",
    " \n",
    "df = pd.read_csv(\"merged_movies_cleaned.csv\", dtype=str)  \n",
    " \n",
    "def clean_movie_name(name):\n",
    "    return re.sub(r\"^\\d+\\.\\s*\", \"\", name).strip() if pd.notna(name) else name  \n",
    " \n",
    "if \"Movie Name\" in df.columns:\n",
    "    df[\"Movie Name\"] = df[\"Movie Name\"].apply(clean_movie_name)  \n",
    " \n",
    "df.to_csv(\"merged_movies_cleaned.csv\", index=False)  \n",
    "\n",
    "print(\"Removed leading numbers and dots from 'Movie Name' successfully!\")\n",
    "\n"
   ]
  },
  {
   "cell_type": "code",
   "execution_count": null,
   "metadata": {},
   "outputs": [
    {
     "name": "stdout",
     "output_type": "stream",
     "text": [
      "✅ CSV loaded successfully!\n",
      "                            Movie Name                      Genre  Ratings  \\\n",
      "0                                1 Fan                     Comedy      6.7   \n",
      "1                                  AAY                     Comedy      6.4   \n",
      "2       AMFAD: All My Friends Are Dead  Mystery, Horror, Thriller      4.5   \n",
      "3  Comicsgate - How to Kill a Movement                Documentary      6.7   \n",
      "4                            FamilyMan                      Drama      6.7   \n",
      "\n",
      "   Voting Counts  Duration  \n",
      "0              0        94  \n",
      "1            785       142  \n",
      "2           1200        91  \n",
      "3              0        94  \n",
      "4              0        94  \n"
     ]
    }
   ],
   "source": [
    "import pandas as pd\n",
    "\n",
    "csv_file = \"imdb_data_cleaned_2024.csv\"  \n",
    "\n",
    "try:\n",
    "    df = pd.read_csv(csv_file)\n",
    "    print(\"CSV loaded successfully!\")\n",
    "    print(df.head())  \n",
    "except Exception as e:\n",
    "    print(f\"Error reading CSV: {e}\")"
   ]
  }
 ],
 "metadata": {
  "kernelspec": {
   "display_name": "Python 3",
   "language": "python",
   "name": "python3"
  },
  "language_info": {
   "codemirror_mode": {
    "name": "ipython",
    "version": 3
   },
   "file_extension": ".py",
   "mimetype": "text/x-python",
   "name": "python",
   "nbconvert_exporter": "python",
   "pygments_lexer": "ipython3",
   "version": "3.12.8"
  }
 },
 "nbformat": 4,
 "nbformat_minor": 2
}
